{
 "cells": [
  {
   "cell_type": "code",
   "execution_count": 1,
   "metadata": {},
   "outputs": [],
   "source": [
    "import numpy as np\n",
    "import pandas as pd\n",
    "from sklearn.linear_model import LinearRegression\n",
    "from sklearn.model_selection import train_test_split\n",
    "from matplotlib import pyplot as plt\n"
   ]
  },
  {
   "cell_type": "code",
   "execution_count": 2,
   "metadata": {},
   "outputs": [],
   "source": [
    "data = pd.read_csv(\"student-mat.csv\")\n",
    "#data.head()\n",
    "#data.info()"
   ]
  },
  {
   "cell_type": "code",
   "execution_count": 3,
   "metadata": {},
   "outputs": [],
   "source": [
    "data = data[[\"G1\", \"G2\", \"G3\", \"studytime\", \"failures\", \"absences\"]]\n",
    "predict = \"G3\"\n",
    "x = np.array(data.drop([predict], 1))\n",
    "y = np.array(data[predict])\n",
    "\n",
    "xtrain, xtest, ytrain, ytest = train_test_split(x, y, test_size=0.3)"
   ]
  },
  {
   "cell_type": "code",
   "execution_count": 4,
   "metadata": {
    "scrolled": true
   },
   "outputs": [
    {
     "name": "stdout",
     "output_type": "stream",
     "text": [
      "0.8394431391512239\n"
     ]
    }
   ],
   "source": [
    "linear_regression = LinearRegression()\n",
    "linear_regression.fit(xtrain, ytrain)\n",
    "accuracy = linear_regression.score(xtest, ytest)\n",
    "print(accuracy)"
   ]
  },
  {
   "cell_type": "code",
   "execution_count": 5,
   "metadata": {},
   "outputs": [
    {
     "name": "stdout",
     "output_type": "stream",
     "text": [
      "[ 5.62660494  8.1770166   9.11140503 18.41676739  8.99759178 13.7737901\n",
      " 16.54327975 12.60562671  8.50264077  8.21016039  8.21699292  4.76062582\n",
      " 12.41869336  9.18240338  7.83913227 20.20746382 12.63877049 12.71189058\n",
      "  8.73354438 12.81272683 14.84730388 13.67057889  6.35550753 15.12289459\n",
      " -1.61107007  5.1025041   6.18442724 13.15061116 15.15603838 16.30978709\n",
      " 10.57647729  8.01092941  2.82584371 14.74890914  9.11611582  5.83582211\n",
      "  6.69025791  7.30632669 12.90281788 10.53179018  9.32864358 19.22238297\n",
      "  9.07642181 15.75383699  6.1878435   4.28508728  9.79516159  8.1323295\n",
      " -0.89704108 11.84120067 -1.63591017  9.63737808 -0.38224307 15.22915847\n",
      " 10.38896626  8.36139368  9.43335501 16.51013597  9.413307    5.68458882\n",
      "  8.1323295  12.0152383   9.68594038 11.51557651 11.93916087  7.92626599\n",
      " 10.69428449 14.32604162  8.98676529 15.03823117 10.23388217 15.71256615\n",
      "  8.0592094  16.39232877  4.45117447 18.26369467 11.95745543  5.02467321\n",
      " 12.07322219 11.25494538 18.60427842  9.48642709 11.852744    7.57037409\n",
      "  8.76740501  7.26163959  8.62044797  9.97055162  9.51531901  3.51603175\n",
      " 12.82969779 15.90820424  7.21807039  3.67057562  5.16148713 -1.14595226\n",
      " 13.88189341 12.62722716 14.96511108 15.22915847  3.93462301  6.26567439\n",
      " 11.84120067  9.17409971  9.17769259  8.21699292 10.45867009  5.66474182\n",
      "  8.00797207 15.97733039 11.12688938  8.22629575 15.22915847 10.64959739\n",
      " 16.20140147  3.963056   15.2988623  12.21906132 17.95765959]\n"
     ]
    }
   ],
   "source": [
    "predictions = linear_regression.predict(xtest)\n",
    "    \n",
    "#print(predictions[x], xtest[x], ytest[x])\n",
    "\n",
    "#print(predictions[y], xtest[y], ytest[y])\n",
    "\n",
    "#print(predictions, xtest, ytest)\n",
    "\n",
    "print(predictions)"
   ]
  },
  {
   "cell_type": "code",
   "execution_count": 6,
   "metadata": {},
   "outputs": [
    {
     "data": {
      "image/png": "[encoded data removed]",
      "text/plain": [
       "<Figure size 432x288 with 1 Axes>"
      ]
     },
     "metadata": {
      "needs_background": "light"
     },
     "output_type": "display_data"
    }
   ],
   "source": [
    "y_pred = linear_regression.predict(xtest) \n",
    "plt.plot(ytest,y_pred, '.')\n",
    "\n",
    "# plot a line\n",
    "x = np.linspace(0, 30, 50)\n",
    "y = x\n",
    "plt.plot(x, y)\n",
    "plt.show()"
   ]
  },
  {
   "cell_type": "code",
   "execution_count": null,
   "metadata": {},
   "outputs": [],
   "source": []
  }
 ],
 "metadata": {
  "kernelspec": {
   "display_name": "Python 3",
   "language": "python",
   "name": "python3"
  },
  "language_info": {
   "codemirror_mode": {
    "name": "ipython",
    "version": 3
   },
   "file_extension": ".py",
   "mimetype": "text/x-python",
   "name": "python",
   "nbconvert_exporter": "python",
   "pygments_lexer": "ipython3",
   "version": "3.8.8"
  }
 },
 "nbformat": 4,
 "nbformat_minor": 4
}
